{
  "nbformat": 4,
  "nbformat_minor": 0,
  "metadata": {
    "colab": {
      "name": "Inventory_management.ipynb",
      "provenance": [],
      "collapsed_sections": []
    },
    "kernelspec": {
      "name": "python3",
      "display_name": "Python 3"
    },
    "language_info": {
      "name": "python"
    }
  },
  "cells": [
    {
      "cell_type": "code",
      "metadata": {
        "id": "Sqi1GNUpfO9e"
      },
      "source": [
        "import json\n",
        "fd=open(\"inventory-list.json\",\"w\")"
      ],
      "execution_count": null,
      "outputs": []
    },
    {
      "cell_type": "code",
      "metadata": {
        "id": "HHifPHkGfp6Z"
      },
      "source": [
        "inventory = {\n",
        "    1191 : {\"item\": \"dairymilk(s)\" , \"price\" : 20 , \"quantity\" : 10 , \"category\": \"chocolate\", \"rating\" : 7},\n",
        "    1192 : {\"item\": \"dairymilk(m)\" , \"price\" : 40 , \"quantity\" : 100 , \"category\": \"chocolate\", \"rating\" : 8},\n",
        "    1193 : {\"item\": \"dairymilk(l)\" , \"price\" : 100 , \"quantity\" : 50 , \"category\": \"chocolate\", \"rating\" : 8},\n",
        "    1194 : {\"item\": \"barone(s)\" , \"price\" : 10 , \"quantity\" : 200 , \"category\": \"chocolate\", \"rating\" : 6},\n",
        "    1195 : {\"item\": \"barone(m)\" , \"price\" : 40 , \"quantity\" : 75 , \"category\":\"chocolate\" , \"rating\" : 7},\n",
        "    1196 : {\"item\": \"barone(l)\" , \"price\" : 80 , \"quantity\" : 50 , \"category\": \"chocolate\" , \"rating\" : 8},\n",
        "    1197 : {\"item\": \"clinicplus\" , \"price\" : 1 , \"quantity\" : 500 , \"category\": \"shampoo\" , \"rating\" : 6},\n",
        "    1198 : {\"item\": \"clinicplusbottle\" , \"price\" : 150 , \"quantity\" : 50 , \"category\": \"shampoo\", \"rating\" : 6},\n",
        "    1199 : {\"item\": \"dettolsoap\" , \"price\" : 20 , \"quantity\" : 100 , \"category\": \"soap\" , \"rating\" : 9},\n",
        "    1200 : {\"item\": \"dettolhandwash\" , \"price\" : 80 , \"quantity\" : 30 , \"category\": \"handwash\" , \"rating\" : 9},\n",
        "    1201 : {\"item\": \"dettolbottle\" , \"price\" : 80 , \"quantity\" : 100 , \"category\": \"medicine\" , \"rating\" : 9},\n",
        "    1202 : {\"item\": \"paracetamol\" , \"price\" : 40 , \"quantity\" : 10 , \"category\": \"medicine\", \"rating\" : 8},\n",
        "    1203 : {\"item\": \"potato\" , \"price\" : 10 , \"quantity\" : 100 , \"category\": \"vegetable\", \"rating\" : 8},\n",
        "    1204 : {\"item\": \"5star(s)\" , \"price\" : 10 , \"quantity\" : 100 , \"category\": \"chocolate\", \"rating\" : 8},\n",
        "    1205 : {\"item\": \"5star(m)\" , \"price\" : 20 , \"quantity\" : 100 , \"category\": \"chocolate\", \"rating\" : 8},\n",
        "    1206 : {\"item\": \"5star(l)\" , \"price\" : 40 , \"quantity\" : 50 , \"category\": \"chocolate\", \"rating\" : 8},\n",
        "    1207 : {\"item\": \"kitkat(s)\" , \"price\" : 10 , \"quantity\" : 300 , \"category\": \"chocolate\", \"rating\" : 7},\n",
        "    1208 : {\"item\": \"kitkat(m)\" , \"price\" : 40 , \"quantity\" : 400 , \"category\": \"chocolate\", \"rating\" : 9},\n",
        "    1209 : {\"item\": \"sneakers\" , \"price\" : 10 , \"quantity\" : 500 , \"category\": \"chocolate\", \"rating\" : 6},\n",
        "    1210 : {\"item\": \"centerfresh\" , \"price\" : 1 , \"quantity\" : 1000 , \"category\": \"toffee\", \"rating\" : 7},\n",
        "    1211 : {\"item\": \"centerfruit\" , \"price\" : 1 , \"quantity\" : 1000 , \"category\": \"toffee\", \"rating\" : 8},\n",
        "    1212 : {\"item\": \"chocobar\" , \"price\" : 10 , \"quantity\" : 200 , \"category\": \"chocolate\", \"rating\" : 7},\n",
        "    1213 : {\"item\": \"pilotpen\" , \"price\" : 100 , \"quantity\" : 100 , \"category\": \"stationary\", \"rating\" : 9},\n",
        "    1214 : {\"item\": \"apsarapencil\" , \"price\" : 5 , \"quantity\" : 200 , \"category\": \"stationary\", \"rating\" : 9},\n",
        "    1215 : {\"item\": \"fair-copy\" , \"price\" : 70 , \"quantity\" : 80 , \"category\": \"stationary\", \"rating\" : 8},\n",
        "    1216 : {\"item\": \"rough-copy\" , \"price\" : 30 , \"quantity\" : 80 , \"category\": \"stationary\", \"rating\" : 7},\n",
        "    1217 : {\"item\": \"pencil-box\" , \"price\" : 100 , \"quantity\" : 90 , \"category\": \"stationary\", \"rating\" : 9},\n",
        "    1218 : {\"item\": \"colors\" , \"price\" : 120 , \"quantity\" : 40 , \"category\": \"stationary\", \"rating\" : 8},\n",
        "    1219 : {\"item\": \"fevicol(m)\" , \"price\" : 20 , \"quantity\" : 100 , \"category\": \"stationary\", \"rating\" : 9},\n",
        "    1220 : {\"item\": \"fevicol(l)\" , \"price\" : 50 , \"quantity\" : 300 , \"category\": \"stationary\", \"rating\" : 9}\n",
        "    \n",
        "}\n",
        "js = json.dumps(inventory)"
      ],
      "execution_count": null,
      "outputs": []
    },
    {
      "cell_type": "code",
      "metadata": {
        "colab": {
          "base_uri": "https://localhost:8080/",
          "height": 137
        },
        "id": "IQ01FSZIfyqx",
        "outputId": "75a7444b-e47f-4c5d-87dc-8de4e2fdf8aa"
      },
      "source": [
        "js"
      ],
      "execution_count": null,
      "outputs": [
        {
          "output_type": "execute_result",
          "data": {
            "application/vnd.google.colaboratory.intrinsic+json": {
              "type": "string"
            },
            "text/plain": [
              "'{\"1191\": {\"item\": \"dairymilk(s)\", \"price\": 20, \"quantity\": 10, \"category\": \"chocolate\", \"rating\": 7}, \"1192\": {\"item\": \"dairymilk(m)\", \"price\": 40, \"quantity\": 100, \"category\": \"chocolate\", \"rating\": 8}, \"1193\": {\"item\": \"dairymilk(l)\", \"price\": 100, \"quantity\": 50, \"category\": \"chocolate\", \"rating\": 8}, \"1194\": {\"item\": \"barone(s)\", \"price\": 10, \"quantity\": 200, \"category\": \"chocolate\", \"rating\": 6}, \"1195\": {\"item\": \"barone(m)\", \"price\": 40, \"quantity\": 75, \"category\": \"chocolate\", \"rating\": 7}, \"1196\": {\"item\": \"barone(l)\", \"price\": 80, \"quantity\": 50, \"category\": \"chocolate\", \"rating\": 8}, \"1197\": {\"item\": \"clinicplus\", \"price\": 1, \"quantity\": 500, \"category\": \"shampoo\", \"rating\": 6}, \"1198\": {\"item\": \"clinicplusbottle\", \"price\": 150, \"quantity\": 50, \"category\": \"shampoo\", \"rating\": 6}, \"1199\": {\"item\": \"dettolsoap\", \"price\": 20, \"quantity\": 100, \"category\": \"soap\", \"rating\": 9}, \"1200\": {\"item\": \"dettolhandwash\", \"price\": 80, \"quantity\": 30, \"category\": \"handwash\", \"rating\": 9}, \"1201\": {\"item\": \"dettolbottle\", \"price\": 80, \"quantity\": 100, \"category\": \"medicine\", \"rating\": 9}, \"1202\": {\"item\": \"paracetamol\", \"price\": 40, \"quantity\": 10, \"category\": \"medicine\", \"rating\": 8}, \"1203\": {\"item\": \"potato\", \"price\": 10, \"quantity\": 100, \"category\": \"vegetable\", \"rating\": 8}, \"1204\": {\"item\": \"5star(s)\", \"price\": 10, \"quantity\": 100, \"category\": \"chocolate\", \"rating\": 8}, \"1205\": {\"item\": \"5star(m)\", \"price\": 20, \"quantity\": 100, \"category\": \"chocolate\", \"rating\": 8}, \"1206\": {\"item\": \"5star(l)\", \"price\": 40, \"quantity\": 50, \"category\": \"chocolate\", \"rating\": 8}, \"1207\": {\"item\": \"kitkat(s)\", \"price\": 10, \"quantity\": 300, \"category\": \"chocolate\", \"rating\": 7}, \"1208\": {\"item\": \"kitkat(m)\", \"price\": 40, \"quantity\": 400, \"category\": \"chocolate\", \"rating\": 9}, \"1209\": {\"item\": \"sneakers\", \"price\": 10, \"quantity\": 500, \"category\": \"chocolate\", \"rating\": 6}, \"1210\": {\"item\": \"centerfresh\", \"price\": 1, \"quantity\": 1000, \"category\": \"toffee\", \"rating\": 7}, \"1211\": {\"item\": \"centerfruit\", \"price\": 1, \"quantity\": 1000, \"category\": \"toffee\", \"rating\": 8}, \"1212\": {\"item\": \"chocobar\", \"price\": 10, \"quantity\": 200, \"category\": \"chocolate\", \"rating\": 7}, \"1213\": {\"item\": \"pilotpen\", \"price\": 100, \"quantity\": 100, \"category\": \"stationary\", \"rating\": 9}, \"1214\": {\"item\": \"apsarapencil\", \"price\": 5, \"quantity\": 200, \"category\": \"stationary\", \"rating\": 9}, \"1215\": {\"item\": \"fair-copy\", \"price\": 70, \"quantity\": 80, \"category\": \"stationary\", \"rating\": 8}, \"1216\": {\"item\": \"rough-copy\", \"price\": 30, \"quantity\": 80, \"category\": \"stationary\", \"rating\": 7}, \"1217\": {\"item\": \"pencil-box\", \"price\": 100, \"quantity\": 90, \"category\": \"stationary\", \"rating\": 9}, \"1218\": {\"item\": \"colors\", \"price\": 120, \"quantity\": 40, \"category\": \"stationary\", \"rating\": 8}, \"1219\": {\"item\": \"fevicol(m)\", \"price\": 20, \"quantity\": 100, \"category\": \"stationary\", \"rating\": 9}, \"1220\": {\"item\": \"fevicol(l)\", \"price\": 50, \"quantity\": 300, \"category\": \"stationary\", \"rating\": 9}}'"
            ]
          },
          "metadata": {},
          "execution_count": 4
        }
      ]
    },
    {
      "cell_type": "code",
      "metadata": {
        "colab": {
          "base_uri": "https://localhost:8080/"
        },
        "id": "IAKdzqAogFUO",
        "outputId": "72d05f5a-fcc3-4304-d66b-0b59c1c44d12"
      },
      "source": [
        "fd.write(js)"
      ],
      "execution_count": null,
      "outputs": [
        {
          "output_type": "execute_result",
          "data": {
            "text/plain": [
              "2978"
            ]
          },
          "metadata": {},
          "execution_count": 5
        }
      ]
    },
    {
      "cell_type": "code",
      "metadata": {
        "id": "p9FgQ_M4gL12"
      },
      "source": [
        "fd.close()"
      ],
      "execution_count": null,
      "outputs": []
    },
    {
      "cell_type": "code",
      "metadata": {
        "colab": {
          "base_uri": "https://localhost:8080/"
        },
        "id": "Z4h2td_ygMzI",
        "outputId": "a53b1eac-8a7b-4303-d63d-bccc27888300"
      },
      "source": [
        "fi = open(\"order.txt\",\"w\")\n",
        "value =int(input(\"enter the number of quantity you want to buy\"))\n",
        "fd = open(\"inventory-list.json\",\"r\")\n",
        "read = fd.read()\n",
        "receipt = json.loads(read)\n",
        "excli = \"\\nyou just bought\\t\"\n",
        "\n",
        "total_bill=0\n",
        "for i in range(value):\n",
        "    pd_id = str(input(\"enter the id\"))\n",
        "    quan = int(input(\"enter the quantity of product\"))\n",
        "    if quan<receipt[pd_id][\"quantity\"]:\n",
        "        receipt[pd_id][\"quantity\"]=receipt[pd_id][\"quantity\"]-quan\n",
        "        total_bill+=quan*receipt[pd_id][\"price\"]\n",
        "        \n",
        "    fi.write(\"you just bought {} of {} with product name {} and category {}\\n \".format( str(quan) , str(pd_id) , str(receipt[pd_id][\"item\"]) , str(receipt[pd_id][\"category\"]) ))\n",
        "    \n",
        "fi.write('\\n your total bill is {}'.format(str(total_bill)))"
      ],
      "execution_count": null,
      "outputs": [
        {
          "name": "stdout",
          "output_type": "stream",
          "text": [
            "enter the number of quantity you want to buy5\n",
            "enter the id1191\n",
            "enter the quantity of product6\n",
            "enter the id1198\n",
            "enter the quantity of product8\n",
            "enter the id1197\n",
            "enter the quantity of product7\n",
            "enter the id1200\n",
            "enter the quantity of product9\n",
            "enter the id1212\n",
            "enter the quantity of product6\n"
          ]
        },
        {
          "output_type": "execute_result",
          "data": {
            "text/plain": [
              "25"
            ]
          },
          "metadata": {},
          "execution_count": 9
        }
      ]
    }
  ]
}